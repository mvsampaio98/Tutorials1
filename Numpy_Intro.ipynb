{
 "cells": [
  {
   "cell_type": "markdown",
   "id": "dfdb6ed0",
   "metadata": {},
   "source": [
    "# Intro to Numpy"
   ]
  },
  {
   "cell_type": "code",
   "execution_count": 1,
   "id": "23e2fcca",
   "metadata": {},
   "outputs": [
    {
     "data": {
      "text/plain": [
       "array([[1, 2, 3],\n",
       "       [4, 5, 6]])"
      ]
     },
     "execution_count": 1,
     "metadata": {},
     "output_type": "execute_result"
    }
   ],
   "source": [
    "import numpy as np\n",
    "example_1 = np.array([[1,2,3], [4,5,6]])\n",
    "example_1"
   ]
  },
  {
   "cell_type": "code",
   "execution_count": 3,
   "id": "6e3580ac",
   "metadata": {},
   "outputs": [
    {
     "data": {
      "text/plain": [
       "numpy.ndarray"
      ]
     },
     "execution_count": 3,
     "metadata": {},
     "output_type": "execute_result"
    }
   ],
   "source": [
    "type(example_1) # Check type of the array"
   ]
  },
  {
   "cell_type": "code",
   "execution_count": 5,
   "id": "4eb68c7d",
   "metadata": {},
   "outputs": [
    {
     "data": {
      "text/plain": [
       "(2, 3)"
      ]
     },
     "execution_count": 5,
     "metadata": {},
     "output_type": "execute_result"
    }
   ],
   "source": [
    "example_1.shape # Check dimensions of the array"
   ]
  },
  {
   "cell_type": "code",
   "execution_count": 6,
   "id": "7128ddb8",
   "metadata": {},
   "outputs": [
    {
     "data": {
      "text/plain": [
       "6"
      ]
     },
     "execution_count": 6,
     "metadata": {},
     "output_type": "execute_result"
    }
   ],
   "source": [
    "example_1.size # Check the number of array elements "
   ]
  },
  {
   "cell_type": "markdown",
   "id": "30226ac1",
   "metadata": {},
   "source": [
    "**Create Values**"
   ]
  },
  {
   "cell_type": "code",
   "execution_count": 28,
   "id": "383c6bc3",
   "metadata": {},
   "outputs": [
    {
     "data": {
      "text/plain": [
       "array([0., 0.])"
      ]
     },
     "execution_count": 28,
     "metadata": {},
     "output_type": "execute_result"
    }
   ],
   "source": [
    "np.zeros(2) # Create an array with zeros"
   ]
  },
  {
   "cell_type": "code",
   "execution_count": 10,
   "id": "7689ef92",
   "metadata": {},
   "outputs": [
    {
     "data": {
      "text/plain": [
       "array([ 0,  3,  6,  9, 12, 15, 18, 21, 24, 27])"
      ]
     },
     "execution_count": 10,
     "metadata": {},
     "output_type": "execute_result"
    }
   ],
   "source": [
    "np.arange(0,30,3) # Values between 0 and 30 with an interval of 3"
   ]
  },
  {
   "cell_type": "code",
   "execution_count": 11,
   "id": "e5852fed",
   "metadata": {},
   "outputs": [
    {
     "data": {
      "text/plain": [
       "array([ 0.        ,  3.33333333,  6.66666667, 10.        ])"
      ]
     },
     "execution_count": 11,
     "metadata": {},
     "output_type": "execute_result"
    }
   ],
   "source": [
    "np.linspace(0,10,4) # Values between 0 and 10 with equal interval"
   ]
  },
  {
   "cell_type": "code",
   "execution_count": 12,
   "id": "9955a532",
   "metadata": {},
   "outputs": [
    {
     "data": {
      "text/plain": [
       "array([29, 16, 29, 26,  1, 23])"
      ]
     },
     "execution_count": 12,
     "metadata": {},
     "output_type": "execute_result"
    }
   ],
   "source": [
    "np.random.randint(0,30,6) # Generate 6 integers between 0 and 30"
   ]
  },
  {
   "cell_type": "code",
   "execution_count": 15,
   "id": "58776547",
   "metadata": {},
   "outputs": [
    {
     "data": {
      "text/plain": [
       "array([[12, 15],\n",
       "       [27, 25],\n",
       "       [ 9, 19]])"
      ]
     },
     "execution_count": 15,
     "metadata": {},
     "output_type": "execute_result"
    }
   ],
   "source": [
    "example_2 = np.random.randint(0,30,6).reshape(3,2) # Organize one line in a Dataframe(3,2)\n",
    "example_2"
   ]
  },
  {
   "cell_type": "markdown",
   "id": "9ee270f8",
   "metadata": {},
   "source": [
    "**Numpy Operations**"
   ]
  },
  {
   "cell_type": "code",
   "execution_count": 17,
   "id": "a7425445",
   "metadata": {},
   "outputs": [
    {
     "data": {
      "text/plain": [
       "6"
      ]
     },
     "execution_count": 17,
     "metadata": {},
     "output_type": "execute_result"
    }
   ],
   "source": [
    "example_1.max() # Max value"
   ]
  },
  {
   "cell_type": "code",
   "execution_count": 18,
   "id": "d741edcd",
   "metadata": {},
   "outputs": [
    {
     "data": {
      "text/plain": [
       "5"
      ]
     },
     "execution_count": 18,
     "metadata": {},
     "output_type": "execute_result"
    }
   ],
   "source": [
    "example_1.argmax() # Position of max element in array"
   ]
  },
  {
   "cell_type": "code",
   "execution_count": 19,
   "id": "4d3c8909",
   "metadata": {},
   "outputs": [
    {
     "data": {
      "text/plain": [
       "3.5"
      ]
     },
     "execution_count": 19,
     "metadata": {},
     "output_type": "execute_result"
    }
   ],
   "source": [
    "example_1.mean() # Mean of array"
   ]
  },
  {
   "cell_type": "code",
   "execution_count": 20,
   "id": "b5a374a1",
   "metadata": {},
   "outputs": [
    {
     "data": {
      "text/plain": [
       "1.707825127659933"
      ]
     },
     "execution_count": 20,
     "metadata": {},
     "output_type": "execute_result"
    }
   ],
   "source": [
    "example_1.std() # Standard deviation"
   ]
  },
  {
   "cell_type": "code",
   "execution_count": 22,
   "id": "ddd740b6",
   "metadata": {},
   "outputs": [
    {
     "data": {
      "text/plain": [
       "array([[ 2,  4,  6],\n",
       "       [ 8, 10, 12]])"
      ]
     },
     "execution_count": 22,
     "metadata": {},
     "output_type": "execute_result"
    }
   ],
   "source": [
    "sum_arrays = example_1 + example_1 # Sum arrays\n",
    "sum_arrays"
   ]
  },
  {
   "cell_type": "code",
   "execution_count": 24,
   "id": "6b40cc90",
   "metadata": {},
   "outputs": [
    {
     "data": {
      "text/plain": [
       "array([[ 1,  4,  9],\n",
       "       [16, 25, 36]])"
      ]
     },
     "execution_count": 24,
     "metadata": {},
     "output_type": "execute_result"
    }
   ],
   "source": [
    "mult_arrays = example_1 * example_1 # Multiply arrays\n",
    "mult_arrays"
   ]
  },
  {
   "cell_type": "code",
   "execution_count": 26,
   "id": "00a1f233",
   "metadata": {},
   "outputs": [
    {
     "data": {
      "text/plain": [
       "array([[ 1,  4,  9],\n",
       "       [16, 25, 36]], dtype=int32)"
      ]
     },
     "execution_count": 26,
     "metadata": {},
     "output_type": "execute_result"
    }
   ],
   "source": [
    "exp_arrays = example_1 ** 2 # Exponential of array\n",
    "exp_arrays"
   ]
  },
  {
   "cell_type": "markdown",
   "id": "67d77507",
   "metadata": {},
   "source": [
    "**Select and Change Values**"
   ]
  },
  {
   "cell_type": "code",
   "execution_count": 29,
   "id": "1f722f33",
   "metadata": {},
   "outputs": [
    {
     "data": {
      "text/plain": [
       "5"
      ]
     },
     "execution_count": 29,
     "metadata": {},
     "output_type": "execute_result"
    }
   ],
   "source": [
    "example_1[1][1] # Select line 1 and column 1"
   ]
  },
  {
   "cell_type": "code",
   "execution_count": 30,
   "id": "de7bbbe8",
   "metadata": {},
   "outputs": [
    {
     "data": {
      "text/plain": [
       "array([5, 6])"
      ]
     },
     "execution_count": 30,
     "metadata": {},
     "output_type": "execute_result"
    }
   ],
   "source": [
    "example_1[example_1>4] # Select all elements in array > 4"
   ]
  },
  {
   "cell_type": "code",
   "execution_count": 31,
   "id": "179554d9",
   "metadata": {},
   "outputs": [
    {
     "data": {
      "text/plain": [
       "array([[ 1,  2,  3],\n",
       "       [10,  5,  6]])"
      ]
     },
     "execution_count": 31,
     "metadata": {},
     "output_type": "execute_result"
    }
   ],
   "source": [
    "example_1[1][0] = 10 # Change the element in this index of array\n",
    "example_1"
   ]
  },
  {
   "cell_type": "code",
   "execution_count": 35,
   "id": "4fecc4ad",
   "metadata": {
    "scrolled": true
   },
   "outputs": [
    {
     "data": {
      "text/plain": [
       "array([[ 1,  2,  3],\n",
       "       [ 0,  0,  1],\n",
       "       [ 0,  0,  1],\n",
       "       [ 0,  0,  1],\n",
       "       [10,  5,  6]])"
      ]
     },
     "execution_count": 35,
     "metadata": {},
     "output_type": "execute_result"
    }
   ],
   "source": [
    "example_1 = np.insert(example_1,1,[0,0,1],axis=0)\n",
    "example_1"
   ]
  },
  {
   "cell_type": "markdown",
   "id": "56057a12",
   "metadata": {},
   "source": [
    "**Indexing and Slicing**"
   ]
  },
  {
   "cell_type": "code",
   "execution_count": 47,
   "id": "418b8bdc",
   "metadata": {},
   "outputs": [
    {
     "data": {
      "text/plain": [
       "array([1, 2])"
      ]
     },
     "execution_count": 47,
     "metadata": {},
     "output_type": "execute_result"
    }
   ],
   "source": [
    "example_1[0][0:2] # Select first colunm and lines 0 and 2"
   ]
  },
  {
   "cell_type": "code",
   "execution_count": 46,
   "id": "318ad5c1",
   "metadata": {},
   "outputs": [
    {
     "data": {
      "text/plain": [
       "array([10,  5,  6])"
      ]
     },
     "execution_count": 46,
     "metadata": {},
     "output_type": "execute_result"
    }
   ],
   "source": [
    "example_1[0:][-1] # Select all columns (0:) and last line"
   ]
  },
  {
   "cell_type": "code",
   "execution_count": null,
   "id": "4bf51db6",
   "metadata": {},
   "outputs": [],
   "source": []
  }
 ],
 "metadata": {
  "kernelspec": {
   "display_name": "Python 3 (ipykernel)",
   "language": "python",
   "name": "python3"
  },
  "language_info": {
   "codemirror_mode": {
    "name": "ipython",
    "version": 3
   },
   "file_extension": ".py",
   "mimetype": "text/x-python",
   "name": "python",
   "nbconvert_exporter": "python",
   "pygments_lexer": "ipython3",
   "version": "3.9.7"
  }
 },
 "nbformat": 4,
 "nbformat_minor": 5
}
